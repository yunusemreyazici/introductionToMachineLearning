{
 "cells": [
  {
   "cell_type": "code",
   "execution_count": 6,
   "id": "62d8f5b1",
   "metadata": {},
   "outputs": [
    {
     "data": {
      "text/plain": "   num_reactions  num_comments  num_shares  num_likes  num_loves  num_wows  \\\n0       0.112314      0.024393    0.076519   0.091720   0.140030  0.010791   \n1       0.031847      0.000000    0.000000   0.031847   0.000000  0.000000   \n2       0.048195      0.011243    0.016647   0.043312   0.031963  0.003597   \n3       0.023567      0.000000    0.000000   0.023567   0.000000  0.000000   \n4       0.045223      0.000000    0.000000   0.043312   0.013699  0.000000   \n\n   num_hahas  num_sads  num_angrys  status_type_link  status_type_photo  \\\n0   0.006369  0.019608         0.0               0.0                0.0   \n1   0.000000  0.000000         0.0               0.0                1.0   \n2   0.006369  0.000000         0.0               0.0                0.0   \n3   0.000000  0.000000         0.0               0.0                1.0   \n4   0.000000  0.000000         0.0               0.0                1.0   \n\n   status_type_status  status_type_video  \n0                 0.0                1.0  \n1                 0.0                0.0  \n2                 0.0                1.0  \n3                 0.0                0.0  \n4                 0.0                0.0  ",
      "text/html": "<div>\n<style scoped>\n    .dataframe tbody tr th:only-of-type {\n        vertical-align: middle;\n    }\n\n    .dataframe tbody tr th {\n        vertical-align: top;\n    }\n\n    .dataframe thead th {\n        text-align: right;\n    }\n</style>\n<table border=\"1\" class=\"dataframe\">\n  <thead>\n    <tr style=\"text-align: right;\">\n      <th></th>\n      <th>num_reactions</th>\n      <th>num_comments</th>\n      <th>num_shares</th>\n      <th>num_likes</th>\n      <th>num_loves</th>\n      <th>num_wows</th>\n      <th>num_hahas</th>\n      <th>num_sads</th>\n      <th>num_angrys</th>\n      <th>status_type_link</th>\n      <th>status_type_photo</th>\n      <th>status_type_status</th>\n      <th>status_type_video</th>\n    </tr>\n  </thead>\n  <tbody>\n    <tr>\n      <th>0</th>\n      <td>0.112314</td>\n      <td>0.024393</td>\n      <td>0.076519</td>\n      <td>0.091720</td>\n      <td>0.140030</td>\n      <td>0.010791</td>\n      <td>0.006369</td>\n      <td>0.019608</td>\n      <td>0.0</td>\n      <td>0.0</td>\n      <td>0.0</td>\n      <td>0.0</td>\n      <td>1.0</td>\n    </tr>\n    <tr>\n      <th>1</th>\n      <td>0.031847</td>\n      <td>0.000000</td>\n      <td>0.000000</td>\n      <td>0.031847</td>\n      <td>0.000000</td>\n      <td>0.000000</td>\n      <td>0.000000</td>\n      <td>0.000000</td>\n      <td>0.0</td>\n      <td>0.0</td>\n      <td>1.0</td>\n      <td>0.0</td>\n      <td>0.0</td>\n    </tr>\n    <tr>\n      <th>2</th>\n      <td>0.048195</td>\n      <td>0.011243</td>\n      <td>0.016647</td>\n      <td>0.043312</td>\n      <td>0.031963</td>\n      <td>0.003597</td>\n      <td>0.006369</td>\n      <td>0.000000</td>\n      <td>0.0</td>\n      <td>0.0</td>\n      <td>0.0</td>\n      <td>0.0</td>\n      <td>1.0</td>\n    </tr>\n    <tr>\n      <th>3</th>\n      <td>0.023567</td>\n      <td>0.000000</td>\n      <td>0.000000</td>\n      <td>0.023567</td>\n      <td>0.000000</td>\n      <td>0.000000</td>\n      <td>0.000000</td>\n      <td>0.000000</td>\n      <td>0.0</td>\n      <td>0.0</td>\n      <td>1.0</td>\n      <td>0.0</td>\n      <td>0.0</td>\n    </tr>\n    <tr>\n      <th>4</th>\n      <td>0.045223</td>\n      <td>0.000000</td>\n      <td>0.000000</td>\n      <td>0.043312</td>\n      <td>0.013699</td>\n      <td>0.000000</td>\n      <td>0.000000</td>\n      <td>0.000000</td>\n      <td>0.0</td>\n      <td>0.0</td>\n      <td>1.0</td>\n      <td>0.0</td>\n      <td>0.0</td>\n    </tr>\n  </tbody>\n</table>\n</div>"
     },
     "execution_count": 6,
     "metadata": {},
     "output_type": "execute_result"
    }
   ],
   "source": [
    "import pandas as pd\n",
    "dataset = pd.read_csv(\"Live.csv\")\n",
    "dataset.head()"
   ]
  },
  {
   "cell_type": "code",
   "execution_count": 7,
   "id": "156f9113",
   "metadata": {},
   "outputs": [],
   "source": [
    "from sklearn.cluster import KMeans\n",
    "model = KMeans(n_clusters=3)"
   ]
  },
  {
   "cell_type": "code",
   "execution_count": 8,
   "id": "374ac5d7",
   "metadata": {},
   "outputs": [
    {
     "name": "stderr",
     "output_type": "stream",
     "text": [
      "/Users/emreyazici/miniconda3/lib/python3.10/site-packages/sklearn/cluster/_kmeans.py:870: FutureWarning: The default value of `n_init` will change from 10 to 'auto' in 1.4. Set the value of `n_init` explicitly to suppress the warning\n",
      "  warnings.warn(\n"
     ]
    },
    {
     "data": {
      "text/plain": "KMeans(n_clusters=3)",
      "text/html": "<style>#sk-container-id-1 {color: black;background-color: white;}#sk-container-id-1 pre{padding: 0;}#sk-container-id-1 div.sk-toggleable {background-color: white;}#sk-container-id-1 label.sk-toggleable__label {cursor: pointer;display: block;width: 100%;margin-bottom: 0;padding: 0.3em;box-sizing: border-box;text-align: center;}#sk-container-id-1 label.sk-toggleable__label-arrow:before {content: \"▸\";float: left;margin-right: 0.25em;color: #696969;}#sk-container-id-1 label.sk-toggleable__label-arrow:hover:before {color: black;}#sk-container-id-1 div.sk-estimator:hover label.sk-toggleable__label-arrow:before {color: black;}#sk-container-id-1 div.sk-toggleable__content {max-height: 0;max-width: 0;overflow: hidden;text-align: left;background-color: #f0f8ff;}#sk-container-id-1 div.sk-toggleable__content pre {margin: 0.2em;color: black;border-radius: 0.25em;background-color: #f0f8ff;}#sk-container-id-1 input.sk-toggleable__control:checked~div.sk-toggleable__content {max-height: 200px;max-width: 100%;overflow: auto;}#sk-container-id-1 input.sk-toggleable__control:checked~label.sk-toggleable__label-arrow:before {content: \"▾\";}#sk-container-id-1 div.sk-estimator input.sk-toggleable__control:checked~label.sk-toggleable__label {background-color: #d4ebff;}#sk-container-id-1 div.sk-label input.sk-toggleable__control:checked~label.sk-toggleable__label {background-color: #d4ebff;}#sk-container-id-1 input.sk-hidden--visually {border: 0;clip: rect(1px 1px 1px 1px);clip: rect(1px, 1px, 1px, 1px);height: 1px;margin: -1px;overflow: hidden;padding: 0;position: absolute;width: 1px;}#sk-container-id-1 div.sk-estimator {font-family: monospace;background-color: #f0f8ff;border: 1px dotted black;border-radius: 0.25em;box-sizing: border-box;margin-bottom: 0.5em;}#sk-container-id-1 div.sk-estimator:hover {background-color: #d4ebff;}#sk-container-id-1 div.sk-parallel-item::after {content: \"\";width: 100%;border-bottom: 1px solid gray;flex-grow: 1;}#sk-container-id-1 div.sk-label:hover label.sk-toggleable__label {background-color: #d4ebff;}#sk-container-id-1 div.sk-serial::before {content: \"\";position: absolute;border-left: 1px solid gray;box-sizing: border-box;top: 0;bottom: 0;left: 50%;z-index: 0;}#sk-container-id-1 div.sk-serial {display: flex;flex-direction: column;align-items: center;background-color: white;padding-right: 0.2em;padding-left: 0.2em;position: relative;}#sk-container-id-1 div.sk-item {position: relative;z-index: 1;}#sk-container-id-1 div.sk-parallel {display: flex;align-items: stretch;justify-content: center;background-color: white;position: relative;}#sk-container-id-1 div.sk-item::before, #sk-container-id-1 div.sk-parallel-item::before {content: \"\";position: absolute;border-left: 1px solid gray;box-sizing: border-box;top: 0;bottom: 0;left: 50%;z-index: -1;}#sk-container-id-1 div.sk-parallel-item {display: flex;flex-direction: column;z-index: 1;position: relative;background-color: white;}#sk-container-id-1 div.sk-parallel-item:first-child::after {align-self: flex-end;width: 50%;}#sk-container-id-1 div.sk-parallel-item:last-child::after {align-self: flex-start;width: 50%;}#sk-container-id-1 div.sk-parallel-item:only-child::after {width: 0;}#sk-container-id-1 div.sk-dashed-wrapped {border: 1px dashed gray;margin: 0 0.4em 0.5em 0.4em;box-sizing: border-box;padding-bottom: 0.4em;background-color: white;}#sk-container-id-1 div.sk-label label {font-family: monospace;font-weight: bold;display: inline-block;line-height: 1.2em;}#sk-container-id-1 div.sk-label-container {text-align: center;}#sk-container-id-1 div.sk-container {/* jupyter's `normalize.less` sets `[hidden] { display: none; }` but bootstrap.min.css set `[hidden] { display: none !important; }` so we also need the `!important` here to be able to override the default hidden behavior on the sphinx rendered scikit-learn.org. See: https://github.com/scikit-learn/scikit-learn/issues/21755 */display: inline-block !important;position: relative;}#sk-container-id-1 div.sk-text-repr-fallback {display: none;}</style><div id=\"sk-container-id-1\" class=\"sk-top-container\"><div class=\"sk-text-repr-fallback\"><pre>KMeans(n_clusters=3)</pre><b>In a Jupyter environment, please rerun this cell to show the HTML representation or trust the notebook. <br />On GitHub, the HTML representation is unable to render, please try loading this page with nbviewer.org.</b></div><div class=\"sk-container\" hidden><div class=\"sk-item\"><div class=\"sk-estimator sk-toggleable\"><input class=\"sk-toggleable__control sk-hidden--visually\" id=\"sk-estimator-id-1\" type=\"checkbox\" checked><label for=\"sk-estimator-id-1\" class=\"sk-toggleable__label sk-toggleable__label-arrow\">KMeans</label><div class=\"sk-toggleable__content\"><pre>KMeans(n_clusters=3)</pre></div></div></div></div></div>"
     },
     "execution_count": 8,
     "metadata": {},
     "output_type": "execute_result"
    }
   ],
   "source": [
    "model.fit(dataset)"
   ]
  },
  {
   "cell_type": "code",
   "execution_count": 10,
   "id": "1bacd9a2",
   "metadata": {},
   "outputs": [],
   "source": [
    "labels = model.predict(dataset)"
   ]
  },
  {
   "cell_type": "code",
   "execution_count": 11,
   "id": "d4c7f5d2",
   "metadata": {},
   "outputs": [
    {
     "data": {
      "text/plain": "(array([0, 1, 2], dtype=int32), array([4288, 2334,  428]))"
     },
     "execution_count": 11,
     "metadata": {},
     "output_type": "execute_result"
    }
   ],
   "source": [
    "import numpy as np\n",
    "np.unique(labels, return_counts=True)"
   ]
  },
  {
   "cell_type": "code",
   "execution_count": 12,
   "id": "60363cb2",
   "metadata": {},
   "outputs": [
    {
     "name": "stderr",
     "output_type": "stream",
     "text": [
      "/Users/emreyazici/miniconda3/lib/python3.10/site-packages/sklearn/cluster/_kmeans.py:870: FutureWarning: The default value of `n_init` will change from 10 to 'auto' in 1.4. Set the value of `n_init` explicitly to suppress the warning\n",
      "  warnings.warn(\n"
     ]
    },
    {
     "name": "stdout",
     "output_type": "stream",
     "text": [
      "For n_clusters=2, The Silhouette Coefficient is 0.8188237721696832\n"
     ]
    },
    {
     "name": "stderr",
     "output_type": "stream",
     "text": [
      "/Users/emreyazici/miniconda3/lib/python3.10/site-packages/sklearn/cluster/_kmeans.py:870: FutureWarning: The default value of `n_init` will change from 10 to 'auto' in 1.4. Set the value of `n_init` explicitly to suppress the warning\n",
      "  warnings.warn(\n"
     ]
    },
    {
     "name": "stdout",
     "output_type": "stream",
     "text": [
      "For n_clusters=3, The Silhouette Coefficient is 0.8972493682244894\n"
     ]
    },
    {
     "name": "stderr",
     "output_type": "stream",
     "text": [
      "/Users/emreyazici/miniconda3/lib/python3.10/site-packages/sklearn/cluster/_kmeans.py:870: FutureWarning: The default value of `n_init` will change from 10 to 'auto' in 1.4. Set the value of `n_init` explicitly to suppress the warning\n",
      "  warnings.warn(\n"
     ]
    },
    {
     "name": "stdout",
     "output_type": "stream",
     "text": [
      "For n_clusters=4, The Silhouette Coefficient is 0.9106664962327098\n"
     ]
    },
    {
     "name": "stderr",
     "output_type": "stream",
     "text": [
      "/Users/emreyazici/miniconda3/lib/python3.10/site-packages/sklearn/cluster/_kmeans.py:870: FutureWarning: The default value of `n_init` will change from 10 to 'auto' in 1.4. Set the value of `n_init` explicitly to suppress the warning\n",
      "  warnings.warn(\n"
     ]
    },
    {
     "name": "stdout",
     "output_type": "stream",
     "text": [
      "For n_clusters=5, The Silhouette Coefficient is 0.8866768371184077\n"
     ]
    },
    {
     "name": "stderr",
     "output_type": "stream",
     "text": [
      "/Users/emreyazici/miniconda3/lib/python3.10/site-packages/sklearn/cluster/_kmeans.py:870: FutureWarning: The default value of `n_init` will change from 10 to 'auto' in 1.4. Set the value of `n_init` explicitly to suppress the warning\n",
      "  warnings.warn(\n"
     ]
    },
    {
     "name": "stdout",
     "output_type": "stream",
     "text": [
      "For n_clusters=6, The Silhouette Coefficient is 0.8430118288916117\n"
     ]
    },
    {
     "name": "stderr",
     "output_type": "stream",
     "text": [
      "/Users/emreyazici/miniconda3/lib/python3.10/site-packages/sklearn/cluster/_kmeans.py:870: FutureWarning: The default value of `n_init` will change from 10 to 'auto' in 1.4. Set the value of `n_init` explicitly to suppress the warning\n",
      "  warnings.warn(\n"
     ]
    },
    {
     "name": "stdout",
     "output_type": "stream",
     "text": [
      "For n_clusters=7, The Silhouette Coefficient is 0.8419421782294579\n"
     ]
    },
    {
     "name": "stderr",
     "output_type": "stream",
     "text": [
      "/Users/emreyazici/miniconda3/lib/python3.10/site-packages/sklearn/cluster/_kmeans.py:870: FutureWarning: The default value of `n_init` will change from 10 to 'auto' in 1.4. Set the value of `n_init` explicitly to suppress the warning\n",
      "  warnings.warn(\n"
     ]
    },
    {
     "name": "stdout",
     "output_type": "stream",
     "text": [
      "For n_clusters=8, The Silhouette Coefficient is 0.8370052625268813\n"
     ]
    },
    {
     "name": "stderr",
     "output_type": "stream",
     "text": [
      "/Users/emreyazici/miniconda3/lib/python3.10/site-packages/sklearn/cluster/_kmeans.py:870: FutureWarning: The default value of `n_init` will change from 10 to 'auto' in 1.4. Set the value of `n_init` explicitly to suppress the warning\n",
      "  warnings.warn(\n"
     ]
    },
    {
     "name": "stdout",
     "output_type": "stream",
     "text": [
      "For n_clusters=9, The Silhouette Coefficient is 0.7614070435963955\n"
     ]
    },
    {
     "name": "stderr",
     "output_type": "stream",
     "text": [
      "/Users/emreyazici/miniconda3/lib/python3.10/site-packages/sklearn/cluster/_kmeans.py:870: FutureWarning: The default value of `n_init` will change from 10 to 'auto' in 1.4. Set the value of `n_init` explicitly to suppress the warning\n",
      "  warnings.warn(\n"
     ]
    },
    {
     "name": "stdout",
     "output_type": "stream",
     "text": [
      "For n_clusters=10, The Silhouette Coefficient is 0.694259459090378\n"
     ]
    },
    {
     "name": "stderr",
     "output_type": "stream",
     "text": [
      "/Users/emreyazici/miniconda3/lib/python3.10/site-packages/sklearn/cluster/_kmeans.py:870: FutureWarning: The default value of `n_init` will change from 10 to 'auto' in 1.4. Set the value of `n_init` explicitly to suppress the warning\n",
      "  warnings.warn(\n"
     ]
    },
    {
     "name": "stdout",
     "output_type": "stream",
     "text": [
      "For n_clusters=11, The Silhouette Coefficient is 0.6804615011553888\n"
     ]
    },
    {
     "data": {
      "text/plain": "<Figure size 1200x800 with 1 Axes>",
      "image/png": "[encoded data removed]"
     },
     "metadata": {},
     "output_type": "display_data"
    }
   ],
   "source": [
    "from sklearn.metrics import silhouette_score\n",
    "import matplotlib.pyplot as plt\n",
    "\n",
    "silhouettes = []\n",
    "ks = list(range(2, 12))\n",
    "for n_cluster in ks:\n",
    "    kmeans = KMeans(n_clusters=n_cluster).fit(dataset)\n",
    "    label = kmeans.labels_\n",
    "    sil_coeff = silhouette_score(dataset, label, metric='euclidean')\n",
    "    print(\"For n_clusters={}, The Silhouette Coefficient is {}\".format(n_cluster, sil_coeff))\n",
    "    silhouettes.append(sil_coeff)\n",
    "\n",
    "plt.figure(figsize=(12, 8))    \n",
    "plt.subplot(211)\n",
    "plt.scatter(ks, silhouettes, marker='x', c='r')\n",
    "plt.plot(ks, silhouettes)\n",
    "plt.xlabel('k')\n",
    "plt.ylabel('Silhouette score');"
   ]
  },
  {
   "cell_type": "code",
   "execution_count": 13,
   "id": "58500586",
   "metadata": {},
   "outputs": [
    {
     "name": "stderr",
     "output_type": "stream",
     "text": [
      "/Users/emreyazici/miniconda3/lib/python3.10/site-packages/sklearn/cluster/_kmeans.py:870: FutureWarning: The default value of `n_init` will change from 10 to 'auto' in 1.4. Set the value of `n_init` explicitly to suppress the warning\n",
      "  warnings.warn(\n"
     ]
    },
    {
     "data": {
      "text/plain": "(array([0, 1, 2, 3], dtype=int32), array([2334, 4288,  365,   63]))"
     },
     "execution_count": 13,
     "metadata": {},
     "output_type": "execute_result"
    }
   ],
   "source": [
    "from sklearn.cluster import KMeans\n",
    "model = KMeans(n_clusters=4)\n",
    "model.fit(dataset)\n",
    "labels = model.predict(dataset)\n",
    "import numpy as np\n",
    "np.unique(labels, return_counts=True)"
   ]
  },
  {
   "cell_type": "code",
   "execution_count": 15,
   "id": "a75ca938",
   "metadata": {},
   "outputs": [
    {
     "data": {
      "text/plain": "      num_reactions  num_comments  num_shares  num_likes  num_loves  num_wows  \\\n0          0.112314      0.024393    0.076519   0.091720   0.140030  0.010791   \n1          0.031847      0.000000    0.000000   0.031847   0.000000  0.000000   \n2          0.048195      0.011243    0.016647   0.043312   0.031963  0.003597   \n3          0.023567      0.000000    0.000000   0.023567   0.000000  0.000000   \n4          0.045223      0.000000    0.000000   0.043312   0.013699  0.000000   \n...             ...           ...         ...        ...        ...       ...   \n7045       0.018896      0.000000    0.000000   0.018896   0.000000  0.000000   \n7046       0.003397      0.000000    0.000000   0.002972   0.001522  0.000000   \n7047       0.000425      0.000000    0.000000   0.000212   0.001522  0.000000   \n7048       0.074522      0.000572    0.006425   0.074098   0.003044  0.000000   \n7049       0.003609      0.000000    0.000000   0.003609   0.000000  0.000000   \n\n      num_hahas  num_sads  num_angrys  status_type_link  status_type_photo  \\\n0      0.006369  0.019608         0.0               0.0                0.0   \n1      0.000000  0.000000         0.0               0.0                1.0   \n2      0.006369  0.000000         0.0               0.0                0.0   \n3      0.000000  0.000000         0.0               0.0                1.0   \n4      0.000000  0.000000         0.0               0.0                1.0   \n...         ...       ...         ...               ...                ...   \n7045   0.000000  0.000000         0.0               0.0                1.0   \n7046   0.006369  0.000000         0.0               0.0                1.0   \n7047   0.000000  0.000000         0.0               0.0                1.0   \n7048   0.000000  0.000000         0.0               0.0                1.0   \n7049   0.000000  0.000000         0.0               0.0                1.0   \n\n      status_type_status  status_type_video  labels  \n0                    0.0                1.0       0  \n1                    0.0                0.0       1  \n2                    0.0                1.0       0  \n3                    0.0                0.0       1  \n4                    0.0                0.0       1  \n...                  ...                ...     ...  \n7045                 0.0                0.0       1  \n7046                 0.0                0.0       1  \n7047                 0.0                0.0       1  \n7048                 0.0                0.0       1  \n7049                 0.0                0.0       1  \n\n[7050 rows x 14 columns]",
      "text/html": "<div>\n<style scoped>\n    .dataframe tbody tr th:only-of-type {\n        vertical-align: middle;\n    }\n\n    .dataframe tbody tr th {\n        vertical-align: top;\n    }\n\n    .dataframe thead th {\n        text-align: right;\n    }\n</style>\n<table border=\"1\" class=\"dataframe\">\n  <thead>\n    <tr style=\"text-align: right;\">\n      <th></th>\n      <th>num_reactions</th>\n      <th>num_comments</th>\n      <th>num_shares</th>\n      <th>num_likes</th>\n      <th>num_loves</th>\n      <th>num_wows</th>\n      <th>num_hahas</th>\n      <th>num_sads</th>\n      <th>num_angrys</th>\n      <th>status_type_link</th>\n      <th>status_type_photo</th>\n      <th>status_type_status</th>\n      <th>status_type_video</th>\n      <th>labels</th>\n    </tr>\n  </thead>\n  <tbody>\n    <tr>\n      <th>0</th>\n      <td>0.112314</td>\n      <td>0.024393</td>\n      <td>0.076519</td>\n      <td>0.091720</td>\n      <td>0.140030</td>\n      <td>0.010791</td>\n      <td>0.006369</td>\n      <td>0.019608</td>\n      <td>0.0</td>\n      <td>0.0</td>\n      <td>0.0</td>\n      <td>0.0</td>\n      <td>1.0</td>\n      <td>0</td>\n    </tr>\n    <tr>\n      <th>1</th>\n      <td>0.031847</td>\n      <td>0.000000</td>\n      <td>0.000000</td>\n      <td>0.031847</td>\n      <td>0.000000</td>\n      <td>0.000000</td>\n      <td>0.000000</td>\n      <td>0.000000</td>\n      <td>0.0</td>\n      <td>0.0</td>\n      <td>1.0</td>\n      <td>0.0</td>\n      <td>0.0</td>\n      <td>1</td>\n    </tr>\n    <tr>\n      <th>2</th>\n      <td>0.048195</td>\n      <td>0.011243</td>\n      <td>0.016647</td>\n      <td>0.043312</td>\n      <td>0.031963</td>\n      <td>0.003597</td>\n      <td>0.006369</td>\n      <td>0.000000</td>\n      <td>0.0</td>\n      <td>0.0</td>\n      <td>0.0</td>\n      <td>0.0</td>\n      <td>1.0</td>\n      <td>0</td>\n    </tr>\n    <tr>\n      <th>3</th>\n      <td>0.023567</td>\n      <td>0.000000</td>\n      <td>0.000000</td>\n      <td>0.023567</td>\n      <td>0.000000</td>\n      <td>0.000000</td>\n      <td>0.000000</td>\n      <td>0.000000</td>\n      <td>0.0</td>\n      <td>0.0</td>\n      <td>1.0</td>\n      <td>0.0</td>\n      <td>0.0</td>\n      <td>1</td>\n    </tr>\n    <tr>\n      <th>4</th>\n      <td>0.045223</td>\n      <td>0.000000</td>\n      <td>0.000000</td>\n      <td>0.043312</td>\n      <td>0.013699</td>\n      <td>0.000000</td>\n      <td>0.000000</td>\n      <td>0.000000</td>\n      <td>0.0</td>\n      <td>0.0</td>\n      <td>1.0</td>\n      <td>0.0</td>\n      <td>0.0</td>\n      <td>1</td>\n    </tr>\n    <tr>\n      <th>...</th>\n      <td>...</td>\n      <td>...</td>\n      <td>...</td>\n      <td>...</td>\n      <td>...</td>\n      <td>...</td>\n      <td>...</td>\n      <td>...</td>\n      <td>...</td>\n      <td>...</td>\n      <td>...</td>\n      <td>...</td>\n      <td>...</td>\n      <td>...</td>\n    </tr>\n    <tr>\n      <th>7045</th>\n      <td>0.018896</td>\n      <td>0.000000</td>\n      <td>0.000000</td>\n      <td>0.018896</td>\n      <td>0.000000</td>\n      <td>0.000000</td>\n      <td>0.000000</td>\n      <td>0.000000</td>\n      <td>0.0</td>\n      <td>0.0</td>\n      <td>1.0</td>\n      <td>0.0</td>\n      <td>0.0</td>\n      <td>1</td>\n    </tr>\n    <tr>\n      <th>7046</th>\n      <td>0.003397</td>\n      <td>0.000000</td>\n      <td>0.000000</td>\n      <td>0.002972</td>\n      <td>0.001522</td>\n      <td>0.000000</td>\n      <td>0.006369</td>\n      <td>0.000000</td>\n      <td>0.0</td>\n      <td>0.0</td>\n      <td>1.0</td>\n      <td>0.0</td>\n      <td>0.0</td>\n      <td>1</td>\n    </tr>\n    <tr>\n      <th>7047</th>\n      <td>0.000425</td>\n      <td>0.000000</td>\n      <td>0.000000</td>\n      <td>0.000212</td>\n      <td>0.001522</td>\n      <td>0.000000</td>\n      <td>0.000000</td>\n      <td>0.000000</td>\n      <td>0.0</td>\n      <td>0.0</td>\n      <td>1.0</td>\n      <td>0.0</td>\n      <td>0.0</td>\n      <td>1</td>\n    </tr>\n    <tr>\n      <th>7048</th>\n      <td>0.074522</td>\n      <td>0.000572</td>\n      <td>0.006425</td>\n      <td>0.074098</td>\n      <td>0.003044</td>\n      <td>0.000000</td>\n      <td>0.000000</td>\n      <td>0.000000</td>\n      <td>0.0</td>\n      <td>0.0</td>\n      <td>1.0</td>\n      <td>0.0</td>\n      <td>0.0</td>\n      <td>1</td>\n    </tr>\n    <tr>\n      <th>7049</th>\n      <td>0.003609</td>\n      <td>0.000000</td>\n      <td>0.000000</td>\n      <td>0.003609</td>\n      <td>0.000000</td>\n      <td>0.000000</td>\n      <td>0.000000</td>\n      <td>0.000000</td>\n      <td>0.0</td>\n      <td>0.0</td>\n      <td>1.0</td>\n      <td>0.0</td>\n      <td>0.0</td>\n      <td>1</td>\n    </tr>\n  </tbody>\n</table>\n<p>7050 rows × 14 columns</p>\n</div>"
     },
     "execution_count": 15,
     "metadata": {},
     "output_type": "execute_result"
    }
   ],
   "source": [
    "dataset[\"labels\"] = labels\n",
    "dataset"
   ]
  },
  {
   "cell_type": "code",
   "execution_count": 16,
   "id": "919fba66",
   "metadata": {},
   "outputs": [
    {
     "data": {
      "text/plain": "0.030608773182480054"
     },
     "execution_count": 16,
     "metadata": {},
     "output_type": "execute_result"
    }
   ],
   "source": [
    "group_zero = dataset[dataset[\"labels\"]==0][\"num_comments\"].mean()\n",
    "group_zero"
   ]
  },
  {
   "cell_type": "code",
   "execution_count": 17,
   "id": "9618eb15",
   "metadata": {},
   "outputs": [
    {
     "data": {
      "text/plain": "0.0007619566531325948"
     },
     "execution_count": 17,
     "metadata": {},
     "output_type": "execute_result"
    }
   ],
   "source": [
    "group_one = dataset[dataset[\"labels\"]==1][\"num_comments\"].mean()\n",
    "group_one"
   ]
  },
  {
   "cell_type": "code",
   "execution_count": 18,
   "id": "328f356a",
   "metadata": {},
   "outputs": [
    {
     "data": {
      "text/plain": "0.0017264581307471548"
     },
     "execution_count": 18,
     "metadata": {},
     "output_type": "execute_result"
    }
   ],
   "source": [
    "group_two = dataset[dataset[\"labels\"]==2][\"num_comments\"].mean()\n",
    "group_two"
   ]
  },
  {
   "cell_type": "code",
   "execution_count": 19,
   "id": "794591ef",
   "metadata": {},
   "outputs": [
    {
     "data": {
      "text/plain": "0.00027148226290672723"
     },
     "execution_count": 19,
     "metadata": {},
     "output_type": "execute_result"
    }
   ],
   "source": [
    "group_three = dataset[dataset[\"labels\"]==3][\"num_comments\"].mean()\n",
    "group_three"
   ]
  },
  {
   "cell_type": "markdown",
   "id": "12c6305a",
   "metadata": {},
   "source": [
    "____"
   ]
  },
  {
   "cell_type": "code",
   "execution_count": 20,
   "id": "80bc2850",
   "metadata": {},
   "outputs": [
    {
     "data": {
      "text/plain": "0.033785031713235436"
     },
     "execution_count": 20,
     "metadata": {},
     "output_type": "execute_result"
    }
   ],
   "source": [
    "group_zero = dataset[dataset[\"labels\"]==0][\"num_shares\"].mean()\n",
    "group_zero"
   ]
  },
  {
   "cell_type": "code",
   "execution_count": 21,
   "id": "7734180f",
   "metadata": {},
   "outputs": [
    {
     "data": {
      "text/plain": "0.0007458736181824375"
     },
     "execution_count": 21,
     "metadata": {},
     "output_type": "execute_result"
    }
   ],
   "source": [
    "group_one = dataset[dataset[\"labels\"]==1][\"num_shares\"].mean()\n",
    "group_one"
   ]
  },
  {
   "cell_type": "code",
   "execution_count": 22,
   "id": "39b3031c",
   "metadata": {},
   "outputs": [
    {
     "data": {
      "text/plain": "0.0007473434899500528"
     },
     "execution_count": 22,
     "metadata": {},
     "output_type": "execute_result"
    }
   ],
   "source": [
    "group_two = dataset[dataset[\"labels\"]==2][\"num_shares\"].mean()\n",
    "group_two"
   ]
  },
  {
   "cell_type": "code",
   "execution_count": 23,
   "id": "d0d076ec",
   "metadata": {},
   "outputs": [
    {
     "data": {
      "text/plain": "0.001284119566829822"
     },
     "execution_count": 23,
     "metadata": {},
     "output_type": "execute_result"
    }
   ],
   "source": [
    "group_three = dataset[dataset[\"labels\"]==3][\"num_shares\"].mean()\n",
    "group_three"
   ]
  },
  {
   "cell_type": "code",
   "execution_count": 24,
   "id": "2990017c",
   "metadata": {},
   "outputs": [],
   "source": [
    "status_type = dataset[[\"status_type_photo\", \"status_type_video\", \"status_type_status\"]].idxmax(axis=1)\n",
    "dataset = pd.concat([dataset[\"labels\"],status_type.rename(\"status_type\")], axis=1)"
   ]
  },
  {
   "cell_type": "code",
   "execution_count": 25,
   "id": "ffb782ef",
   "metadata": {},
   "outputs": [
    {
     "data": {
      "text/plain": "labels  status_type       \n0       status_type_video     2334\n1       status_type_photo     4288\n2       status_type_status     365\n3       status_type_photo       63\nName: status_type, dtype: int64"
     },
     "execution_count": 25,
     "metadata": {},
     "output_type": "execute_result"
    }
   ],
   "source": [
    "dataset.groupby([\"labels\",\"status_type\"])[\"status_type\"].count()"
   ]
  },
  {
   "cell_type": "code",
   "execution_count": null,
   "outputs": [],
   "source": [],
   "metadata": {
    "collapsed": false
   }
  }
 ],
 "metadata": {
  "kernelspec": {
   "display_name": "Python 3",
   "language": "python",
   "name": "python3"
  },
  "language_info": {
   "codemirror_mode": {
    "name": "ipython",
    "version": 3
   },
   "file_extension": ".py",
   "mimetype": "text/x-python",
   "name": "python",
   "nbconvert_exporter": "python",
   "pygments_lexer": "ipython3",
   "version": "3.8.8"
  }
 },
 "nbformat": 4,
 "nbformat_minor": 5
}
