{
 "nbformat": 4,
 "nbformat_minor": 0,
 "metadata": {
  "colab": {
   "name": "NN.ipynb",
   "provenance": []
  },
  "kernelspec": {
   "name": "python3",
   "display_name": "Python 3"
  },
  "language_info": {
   "name": "python"
  }
 },
 "cells": [
  {
   "cell_type": "code",
   "source": [
    "from sklearn.datasets import fetch_openml\n",
    "from sklearn.model_selection import train_test_split\n",
    "\n",
    "X, y = fetch_openml(\"mnist_784\", version=1, return_X_y=True, as_frame=False)\n",
    "X = X / 255.0\n",
    "\n",
    "X_train, X_test, y_train, y_test = train_test_split(X, y, random_state=0, test_size=0.3)"
   ],
   "metadata": {
    "id": "LcL0U9t4lQDZ"
   },
   "execution_count": 1,
   "outputs": [
    {
     "name": "stderr",
     "output_type": "stream",
     "text": [
      "/Users/emreyazici/miniconda3/lib/python3.10/site-packages/sklearn/datasets/_openml.py:932: FutureWarning: The default value of `parser` will change from `'liac-arff'` to `'auto'` in 1.4. You can set `parser='auto'` to silence this warning. Therefore, an `ImportError` will be raised from 1.4 if the dataset is dense and pandas is not installed. Note that the pandas parser may return different data types. See the Notes Section in fetch_openml's API doc for details.\n",
      "  warn(\n"
     ]
    }
   ]
  },
  {
   "cell_type": "code",
   "source": [
    "import pandas as pd\n",
    "\n",
    "data = pd.DataFrame(X)\n",
    "data.insert(784, \"label\", y)\n",
    "\n",
    "data.head()"
   ],
   "metadata": {
    "colab": {
     "base_uri": "https://localhost:8080/",
     "height": 236
    },
    "id": "5tnaeak6nChk",
    "outputId": "7c8e32d7-02ee-4273-f549-d9858260b488",
    "executionInfo": {
     "status": "ok",
     "timestamp": 1655298213344,
     "user_tz": -180,
     "elapsed": 473,
     "user": {
      "displayName": "Emir Kiani",
      "userId": "02161389991804253449"
     }
    }
   },
   "execution_count": 2,
   "outputs": [
    {
     "data": {
      "text/plain": "     0    1    2    3    4    5    6    7    8    9  ...  775  776  777  778  \\\n0  0.0  0.0  0.0  0.0  0.0  0.0  0.0  0.0  0.0  0.0  ...  0.0  0.0  0.0  0.0   \n1  0.0  0.0  0.0  0.0  0.0  0.0  0.0  0.0  0.0  0.0  ...  0.0  0.0  0.0  0.0   \n2  0.0  0.0  0.0  0.0  0.0  0.0  0.0  0.0  0.0  0.0  ...  0.0  0.0  0.0  0.0   \n3  0.0  0.0  0.0  0.0  0.0  0.0  0.0  0.0  0.0  0.0  ...  0.0  0.0  0.0  0.0   \n4  0.0  0.0  0.0  0.0  0.0  0.0  0.0  0.0  0.0  0.0  ...  0.0  0.0  0.0  0.0   \n\n   779  780  781  782  783  label  \n0  0.0  0.0  0.0  0.0  0.0      5  \n1  0.0  0.0  0.0  0.0  0.0      0  \n2  0.0  0.0  0.0  0.0  0.0      4  \n3  0.0  0.0  0.0  0.0  0.0      1  \n4  0.0  0.0  0.0  0.0  0.0      9  \n\n[5 rows x 785 columns]",
      "text/html": "<div>\n<style scoped>\n    .dataframe tbody tr th:only-of-type {\n        vertical-align: middle;\n    }\n\n    .dataframe tbody tr th {\n        vertical-align: top;\n    }\n\n    .dataframe thead th {\n        text-align: right;\n    }\n</style>\n<table border=\"1\" class=\"dataframe\">\n  <thead>\n    <tr style=\"text-align: right;\">\n      <th></th>\n      <th>0</th>\n      <th>1</th>\n      <th>2</th>\n      <th>3</th>\n      <th>4</th>\n      <th>5</th>\n      <th>6</th>\n      <th>7</th>\n      <th>8</th>\n      <th>9</th>\n      <th>...</th>\n      <th>775</th>\n      <th>776</th>\n      <th>777</th>\n      <th>778</th>\n      <th>779</th>\n      <th>780</th>\n      <th>781</th>\n      <th>782</th>\n      <th>783</th>\n      <th>label</th>\n    </tr>\n  </thead>\n  <tbody>\n    <tr>\n      <th>0</th>\n      <td>0.0</td>\n      <td>0.0</td>\n      <td>0.0</td>\n      <td>0.0</td>\n      <td>0.0</td>\n      <td>0.0</td>\n      <td>0.0</td>\n      <td>0.0</td>\n      <td>0.0</td>\n      <td>0.0</td>\n      <td>...</td>\n      <td>0.0</td>\n      <td>0.0</td>\n      <td>0.0</td>\n      <td>0.0</td>\n      <td>0.0</td>\n      <td>0.0</td>\n      <td>0.0</td>\n      <td>0.0</td>\n      <td>0.0</td>\n      <td>5</td>\n    </tr>\n    <tr>\n      <th>1</th>\n      <td>0.0</td>\n      <td>0.0</td>\n      <td>0.0</td>\n      <td>0.0</td>\n      <td>0.0</td>\n      <td>0.0</td>\n      <td>0.0</td>\n      <td>0.0</td>\n      <td>0.0</td>\n      <td>0.0</td>\n      <td>...</td>\n      <td>0.0</td>\n      <td>0.0</td>\n      <td>0.0</td>\n      <td>0.0</td>\n      <td>0.0</td>\n      <td>0.0</td>\n      <td>0.0</td>\n      <td>0.0</td>\n      <td>0.0</td>\n      <td>0</td>\n    </tr>\n    <tr>\n      <th>2</th>\n      <td>0.0</td>\n      <td>0.0</td>\n      <td>0.0</td>\n      <td>0.0</td>\n      <td>0.0</td>\n      <td>0.0</td>\n      <td>0.0</td>\n      <td>0.0</td>\n      <td>0.0</td>\n      <td>0.0</td>\n      <td>...</td>\n      <td>0.0</td>\n      <td>0.0</td>\n      <td>0.0</td>\n      <td>0.0</td>\n      <td>0.0</td>\n      <td>0.0</td>\n      <td>0.0</td>\n      <td>0.0</td>\n      <td>0.0</td>\n      <td>4</td>\n    </tr>\n    <tr>\n      <th>3</th>\n      <td>0.0</td>\n      <td>0.0</td>\n      <td>0.0</td>\n      <td>0.0</td>\n      <td>0.0</td>\n      <td>0.0</td>\n      <td>0.0</td>\n      <td>0.0</td>\n      <td>0.0</td>\n      <td>0.0</td>\n      <td>...</td>\n      <td>0.0</td>\n      <td>0.0</td>\n      <td>0.0</td>\n      <td>0.0</td>\n      <td>0.0</td>\n      <td>0.0</td>\n      <td>0.0</td>\n      <td>0.0</td>\n      <td>0.0</td>\n      <td>1</td>\n    </tr>\n    <tr>\n      <th>4</th>\n      <td>0.0</td>\n      <td>0.0</td>\n      <td>0.0</td>\n      <td>0.0</td>\n      <td>0.0</td>\n      <td>0.0</td>\n      <td>0.0</td>\n      <td>0.0</td>\n      <td>0.0</td>\n      <td>0.0</td>\n      <td>...</td>\n      <td>0.0</td>\n      <td>0.0</td>\n      <td>0.0</td>\n      <td>0.0</td>\n      <td>0.0</td>\n      <td>0.0</td>\n      <td>0.0</td>\n      <td>0.0</td>\n      <td>0.0</td>\n      <td>9</td>\n    </tr>\n  </tbody>\n</table>\n<p>5 rows × 785 columns</p>\n</div>"
     },
     "execution_count": 2,
     "metadata": {},
     "output_type": "execute_result"
    }
   ]
  },
  {
   "cell_type": "code",
   "source": [
    "X_train[2]"
   ],
   "metadata": {
    "colab": {
     "base_uri": "https://localhost:8080/"
    },
    "id": "7O4b7In3dm4r",
    "executionInfo": {
     "status": "ok",
     "timestamp": 1655298272308,
     "user_tz": -180,
     "elapsed": 4,
     "user": {
      "displayName": "Emir Kiani",
      "userId": "02161389991804253449"
     }
    },
    "outputId": "184d2233-eddb-4476-a8e6-0bc637584552"
   },
   "execution_count": 3,
   "outputs": [
    {
     "data": {
      "text/plain": "array([0.        , 0.        , 0.        , 0.        , 0.        ,\n       0.        , 0.        , 0.        , 0.        , 0.        ,\n       0.        , 0.        , 0.        , 0.        , 0.        ,\n       0.        , 0.        , 0.        , 0.        , 0.        ,\n       0.        , 0.        , 0.        , 0.        , 0.        ,\n       0.        , 0.        , 0.        , 0.        , 0.        ,\n       0.        , 0.        , 0.        , 0.        , 0.        ,\n       0.        , 0.        , 0.        , 0.        , 0.        ,\n       0.        , 0.        , 0.        , 0.        , 0.        ,\n       0.        , 0.        , 0.        , 0.        , 0.        ,\n       0.        , 0.        , 0.        , 0.        , 0.        ,\n       0.        , 0.        , 0.        , 0.        , 0.        ,\n       0.        , 0.        , 0.        , 0.        , 0.        ,\n       0.        , 0.        , 0.        , 0.        , 0.        ,\n       0.        , 0.        , 0.        , 0.        , 0.        ,\n       0.        , 0.        , 0.        , 0.        , 0.        ,\n       0.        , 0.        , 0.        , 0.        , 0.        ,\n       0.        , 0.        , 0.        , 0.        , 0.        ,\n       0.        , 0.        , 0.        , 0.        , 0.        ,\n       0.        , 0.        , 0.        , 0.        , 0.        ,\n       0.        , 0.        , 0.        , 0.        , 0.        ,\n       0.        , 0.        , 0.        , 0.        , 0.        ,\n       0.        , 0.        , 0.        , 0.        , 0.        ,\n       0.        , 0.        , 0.        , 0.        , 0.        ,\n       0.        , 0.        , 0.        , 0.        , 0.        ,\n       0.20784314, 0.28627451, 0.69019608, 0.99215686, 0.99215686,\n       0.99215686, 0.28627451, 0.12156863, 0.        , 0.        ,\n       0.        , 0.        , 0.        , 0.        , 0.        ,\n       0.        , 0.        , 0.        , 0.        , 0.        ,\n       0.        , 0.        , 0.        , 0.        , 0.        ,\n       0.        , 0.        , 0.24705882, 0.86666667, 0.99215686,\n       0.98431373, 0.98431373, 0.98431373, 0.98431373, 0.99215686,\n       0.74117647, 0.07843137, 0.        , 0.        , 0.        ,\n       0.        , 0.        , 0.        , 0.        , 0.        ,\n       0.        , 0.        , 0.        , 0.        , 0.        ,\n       0.        , 0.        , 0.        , 0.        , 0.22745098,\n       0.90588235, 0.98431373, 0.99215686, 0.98431373, 0.98431373,\n       0.98431373, 0.98431373, 0.99215686, 0.98431373, 0.86666667,\n       0.48627451, 0.        , 0.        , 0.        , 0.        ,\n       0.        , 0.        , 0.        , 0.        , 0.        ,\n       0.        , 0.        , 0.        , 0.        , 0.        ,\n       0.        , 0.24705882, 0.90588235, 0.98431373, 0.98431373,\n       0.99215686, 0.98431373, 0.61568627, 0.55686275, 0.55686275,\n       0.99215686, 0.98431373, 0.98431373, 0.74117647, 0.12156863,\n       0.        , 0.        , 0.        , 0.        , 0.        ,\n       0.        , 0.        , 0.        , 0.        , 0.        ,\n       0.        , 0.        , 0.        , 0.20784314, 0.86666667,\n       0.98431373, 0.98431373, 0.98431373, 0.78823529, 0.27843137,\n       0.03921569, 0.        , 0.        , 0.48627451, 0.98431373,\n       0.98431373, 0.98431373, 0.27843137, 0.        , 0.        ,\n       0.        , 0.        , 0.        , 0.        , 0.        ,\n       0.        , 0.        , 0.        , 0.        , 0.1254902 ,\n       0.28627451, 1.        , 0.99215686, 0.99215686, 0.99215686,\n       0.78823529, 0.        , 0.        , 0.        , 0.        ,\n       0.        , 0.        , 0.56862745, 0.99215686, 0.99215686,\n       0.99215686, 0.        , 0.        , 0.        , 0.        ,\n       0.        , 0.        , 0.        , 0.        , 0.        ,\n       0.        , 0.        , 0.42745098, 0.98431373, 0.99215686,\n       0.98431373, 0.98431373, 0.7372549 , 0.11764706, 0.        ,\n       0.        , 0.        , 0.        , 0.        , 0.        ,\n       0.56470588, 0.98431373, 0.98431373, 0.98431373, 0.        ,\n       0.        , 0.        , 0.        , 0.        , 0.        ,\n       0.        , 0.        , 0.        , 0.        , 0.22745098,\n       0.90588235, 0.98431373, 0.99215686, 0.98431373, 0.76078431,\n       0.07843137, 0.        , 0.        , 0.        , 0.        ,\n       0.        , 0.        , 0.        , 0.56470588, 0.98431373,\n       0.98431373, 0.98431373, 0.        , 0.        , 0.        ,\n       0.        , 0.        , 0.        , 0.        , 0.        ,\n       0.        , 0.24705882, 0.90588235, 0.98431373, 0.98431373,\n       0.99215686, 0.98431373, 0.1372549 , 0.        , 0.        ,\n       0.        , 0.        , 0.        , 0.        , 0.        ,\n       0.        , 0.56470588, 0.98431373, 0.98431373, 0.98431373,\n       0.        , 0.        , 0.        , 0.        , 0.        ,\n       0.        , 0.        , 0.        , 0.        , 0.56470588,\n       0.98431373, 0.98431373, 0.98431373, 0.78823529, 0.27843137,\n       0.03921569, 0.        , 0.        , 0.        , 0.        ,\n       0.        , 0.        , 0.        , 0.20784314, 0.86666667,\n       0.98431373, 0.98431373, 0.47843137, 0.        , 0.        ,\n       0.        , 0.        , 0.        , 0.        , 0.        ,\n       0.        , 0.08235294, 0.69019608, 0.99215686, 0.99215686,\n       0.99215686, 0.50980392, 0.        , 0.        , 0.        ,\n       0.        , 0.        , 0.        , 0.        , 0.        ,\n       0.        , 0.49019608, 0.99215686, 0.99215686, 0.86666667,\n       0.2       , 0.        , 0.        , 0.        , 0.        ,\n       0.        , 0.        , 0.        , 0.        , 0.28627451,\n       0.98431373, 0.98431373, 0.98431373, 0.57647059, 0.        ,\n       0.        , 0.        , 0.        , 0.        , 0.        ,\n       0.        , 0.        , 0.        , 0.41176471, 0.99215686,\n       0.98431373, 0.98431373, 0.55686275, 0.        , 0.        ,\n       0.        , 0.        , 0.        , 0.        , 0.        ,\n       0.        , 0.        , 0.38823529, 0.98431373, 0.98431373,\n       0.92156863, 0.23921569, 0.        , 0.        , 0.        ,\n       0.        , 0.        , 0.        , 0.        , 0.02352941,\n       0.45098039, 0.94509804, 0.99215686, 0.98431373, 0.96470588,\n       0.48235294, 0.        , 0.        , 0.        , 0.        ,\n       0.        , 0.        , 0.        , 0.        , 0.        ,\n       0.99215686, 0.98431373, 0.98431373, 0.55686275, 0.        ,\n       0.        , 0.        , 0.        , 0.        , 0.        ,\n       0.        , 0.        , 0.45098039, 0.98431373, 0.98431373,\n       0.99215686, 0.98431373, 0.5372549 , 0.        , 0.        ,\n       0.        , 0.        , 0.        , 0.        , 0.        ,\n       0.        , 0.        , 0.        , 0.99215686, 0.98431373,\n       0.98431373, 0.55686275, 0.        , 0.        , 0.        ,\n       0.        , 0.        , 0.        , 0.71372549, 0.70588235,\n       0.94509804, 0.98431373, 0.98431373, 0.99215686, 0.57647059,\n       0.03921569, 0.        , 0.        , 0.        , 0.        ,\n       0.        , 0.        , 0.        , 0.        , 0.        ,\n       0.        , 0.28627451, 0.99215686, 0.99215686, 0.68627451,\n       0.28627451, 0.        , 0.        , 0.04313725, 0.28627451,\n       0.79215686, 1.        , 0.99215686, 0.99215686, 0.99215686,\n       0.99215686, 0.50980392, 0.        , 0.        , 0.        ,\n       0.        , 0.        , 0.        , 0.        , 0.        ,\n       0.        , 0.        , 0.        , 0.        , 0.28627451,\n       0.98431373, 0.98431373, 0.98431373, 0.98431373, 0.56862745,\n       0.56470588, 0.62745098, 0.98431373, 0.98431373, 0.99215686,\n       0.98431373, 0.98431373, 0.98431373, 0.57647059, 0.        ,\n       0.        , 0.        , 0.        , 0.        , 0.        ,\n       0.        , 0.        , 0.        , 0.        , 0.        ,\n       0.        , 0.        , 0.03921569, 0.62352941, 0.98431373,\n       0.98431373, 0.98431373, 0.99215686, 0.98431373, 0.98431373,\n       0.98431373, 0.98431373, 0.99215686, 0.98431373, 0.8627451 ,\n       0.5372549 , 0.03921569, 0.        , 0.        , 0.        ,\n       0.        , 0.        , 0.        , 0.        , 0.        ,\n       0.        , 0.        , 0.        , 0.        , 0.        ,\n       0.        , 0.3254902 , 0.9254902 , 0.98431373, 0.98431373,\n       0.99215686, 0.98431373, 0.98431373, 0.98431373, 0.98431373,\n       0.56078431, 0.55686275, 0.07843137, 0.        , 0.        ,\n       0.        , 0.        , 0.        , 0.        , 0.        ,\n       0.        , 0.        , 0.        , 0.        , 0.        ,\n       0.        , 0.        , 0.        , 0.        , 0.        ,\n       0.23921569, 0.58039216, 0.98431373, 0.99215686, 0.98431373,\n       0.98431373, 0.67843137, 0.27843137, 0.        , 0.        ,\n       0.        , 0.        , 0.        , 0.        , 0.        ,\n       0.        , 0.        , 0.        , 0.        , 0.        ,\n       0.        , 0.        , 0.        , 0.        , 0.        ,\n       0.        , 0.        , 0.        , 0.        , 0.        ,\n       0.        , 0.        , 0.        , 0.        , 0.        ,\n       0.        , 0.        , 0.        , 0.        , 0.        ,\n       0.        , 0.        , 0.        , 0.        , 0.        ,\n       0.        , 0.        , 0.        , 0.        , 0.        ,\n       0.        , 0.        , 0.        , 0.        , 0.        ,\n       0.        , 0.        , 0.        , 0.        , 0.        ,\n       0.        , 0.        , 0.        , 0.        , 0.        ,\n       0.        , 0.        , 0.        , 0.        , 0.        ,\n       0.        , 0.        , 0.        , 0.        , 0.        ,\n       0.        , 0.        , 0.        , 0.        , 0.        ,\n       0.        , 0.        , 0.        , 0.        , 0.        ,\n       0.        , 0.        , 0.        , 0.        , 0.        ,\n       0.        , 0.        , 0.        , 0.        , 0.        ,\n       0.        , 0.        , 0.        , 0.        , 0.        ,\n       0.        , 0.        , 0.        , 0.        , 0.        ,\n       0.        , 0.        , 0.        , 0.        , 0.        ,\n       0.        , 0.        , 0.        , 0.        , 0.        ,\n       0.        , 0.        , 0.        , 0.        , 0.        ,\n       0.        , 0.        , 0.        , 0.        , 0.        ,\n       0.        , 0.        , 0.        , 0.        , 0.        ,\n       0.        , 0.        , 0.        , 0.        ])"
     },
     "execution_count": 3,
     "metadata": {},
     "output_type": "execute_result"
    }
   ]
  },
  {
   "cell_type": "code",
   "source": [
    "import matplotlib.pyplot as plt\n",
    "for i in range(5):\n",
    "  plt.imshow(X[i].reshape((28, 28)), cmap='gray')\n",
    "  plt.show()"
   ],
   "metadata": {
    "colab": {
     "base_uri": "https://localhost:8080/",
     "height": 1000
    },
    "outputId": "ab51b20b-be2c-4574-8ed3-645c5eec72da",
    "id": "GG0_BlkIuj0i",
    "executionInfo": {
     "status": "ok",
     "timestamp": 1655293570714,
     "user_tz": -180,
     "elapsed": 1008,
     "user": {
      "displayName": "Ahmet Alp Sarıca",
      "userId": "00819177888909939823"
     }
    }
   },
   "execution_count": 4,
   "outputs": [
    {
     "data": {
      "text/plain": "<Figure size 640x480 with 1 Axes>",
      "image/png": "[encoded data removed]"
     },
     "metadata": {},
     "output_type": "display_data"
    },
    {
     "data": {
      "text/plain": "<Figure size 640x480 with 1 Axes>",
      "image/png": "[encoded data removed]"
     },
     "metadata": {},
     "output_type": "display_data"
    },
    {
     "data": {
      "text/plain": "<Figure size 640x480 with 1 Axes>",
      "image/png": "[encoded data removed]"
     },
     "metadata": {},
     "output_type": "display_data"
    },
    {
     "data": {
      "text/plain": "<Figure size 640x480 with 1 Axes>",
      "image/png": "[encoded data removed]"
     },
     "metadata": {},
     "output_type": "display_data"
    },
    {
     "data": {
      "text/plain": "<Figure size 640x480 with 1 Axes>",
      "image/png": "[encoded data removed]"
     },
     "metadata": {},
     "output_type": "display_data"
    }
   ]
  },
  {
   "cell_type": "code",
   "execution_count": 5,
   "metadata": {
    "colab": {
     "base_uri": "https://localhost:8080/"
    },
    "id": "RBBwoeTpcopN",
    "outputId": "dbdc8f7b-66b8-4e57-dc07-1969d067af82",
    "executionInfo": {
     "status": "ok",
     "timestamp": 1655294686333,
     "user_tz": -180,
     "elapsed": 1115622,
     "user": {
      "displayName": "Ahmet Alp Sarıca",
      "userId": "00819177888909939823"
     }
    }
   },
   "outputs": [],
   "source": [
    "from sklearn.neural_network import MLPClassifier\n",
    "\n",
    "mlp = MLPClassifier(hidden_layer_sizes=1, activation = \"logistic\")\n",
    "mlp1 = MLPClassifier(hidden_layer_sizes=100, activation = \"logistic\")\n",
    "mlp2 = MLPClassifier(hidden_layer_sizes=1000, activation = \"logistic\")"
   ]
  },
  {
   "cell_type": "code",
   "source": [
    "mlp.fit(X_train, y_train)\n",
    "mlp1.fit(X_train, y_train)\n",
    "mlp2.fit(X_train, y_train)"
   ],
   "metadata": {
    "id": "jQlQqcehyOn-",
    "pycharm": {
     "is_executing": true
    }
   },
   "execution_count": null,
   "outputs": [
    {
     "name": "stderr",
     "output_type": "stream",
     "text": [
      "/Users/emreyazici/miniconda3/lib/python3.10/site-packages/sklearn/neural_network/_multilayer_perceptron.py:684: ConvergenceWarning: Stochastic Optimizer: Maximum iterations (200) reached and the optimization hasn't converged yet.\n",
      "  warnings.warn(\n"
     ]
    }
   ]
  },
  {
   "cell_type": "code",
   "source": [
    "predictions_NN = mlp.predict(X_test)\n",
    "predictions_NN"
   ],
   "metadata": {
    "colab": {
     "base_uri": "https://localhost:8080/"
    },
    "id": "VubrEoXzXL-e",
    "outputId": "123ddcb5-aa2d-495c-85ba-dd704a05c33f",
    "executionInfo": {
     "status": "ok",
     "timestamp": 1655294757357,
     "user_tz": -180,
     "elapsed": 9,
     "user": {
      "displayName": "Ahmet Alp Sarıca",
      "userId": "00819177888909939823"
     }
    },
    "pycharm": {
     "is_executing": true
    }
   },
   "execution_count": null,
   "outputs": []
  },
  {
   "cell_type": "code",
   "source": [
    "predictions_NN1 = mlp1.predict(X_test)\n",
    "predictions_NN1"
   ],
   "metadata": {
    "colab": {
     "base_uri": "https://localhost:8080/"
    },
    "id": "yDpksc17qQne",
    "executionInfo": {
     "status": "ok",
     "timestamp": 1655294758571,
     "user_tz": -180,
     "elapsed": 1218,
     "user": {
      "displayName": "Ahmet Alp Sarıca",
      "userId": "00819177888909939823"
     }
    },
    "outputId": "7e7b56b1-5bbf-40ec-f9ac-a4ca2163c204",
    "pycharm": {
     "is_executing": true
    }
   },
   "execution_count": null,
   "outputs": []
  },
  {
   "cell_type": "code",
   "source": [
    "predictions_NN2 = mlp2.predict(X_test)\n",
    "predictions_NN2"
   ],
   "metadata": {
    "colab": {
     "base_uri": "https://localhost:8080/"
    },
    "id": "3L_BMxRi-ozx",
    "executionInfo": {
     "status": "ok",
     "timestamp": 1655296669761,
     "user_tz": -180,
     "elapsed": 1674,
     "user": {
      "displayName": "Ahmet Alp Sarıca",
      "userId": "00819177888909939823"
     }
    },
    "outputId": "bc5dacf5-4e42-44e4-fe40-52abffaf46fe",
    "pycharm": {
     "is_executing": true
    }
   },
   "execution_count": null,
   "outputs": []
  },
  {
   "cell_type": "code",
   "source": [
    "print(f\"Actual Value: {y_test[0]}\")\n",
    "print(f\"Predicted Value: {predictions_NN2[0]}\")\n",
    "\n",
    "\n",
    "plt.imshow(X_test[0].reshape((28, 28)), cmap='gray')\n",
    "plt.show()"
   ],
   "metadata": {
    "colab": {
     "base_uri": "https://localhost:8080/",
     "height": 300
    },
    "id": "qtOuBm6Yl8i2",
    "executionInfo": {
     "status": "ok",
     "timestamp": 1655294759586,
     "user_tz": -180,
     "elapsed": 406,
     "user": {
      "displayName": "Ahmet Alp Sarıca",
      "userId": "00819177888909939823"
     }
    },
    "outputId": "7962dc7c-2594-41a7-a637-dbb732e808d1",
    "pycharm": {
     "is_executing": true
    }
   },
   "execution_count": null,
   "outputs": []
  },
  {
   "cell_type": "code",
   "source": [
    "print(f\"Actual Value: {y_test[1]}\")\n",
    "print(f\"Predicted Value For 1 Hidden Layer: {predictions_NN[1]}\")\n",
    "print(f\"Predicted Value For 100 Hidden Layer: {predictions_NN1[1]}\")\n",
    "print(f\"Predicted Value For 1000 Hidden Layer: {predictions_NN2[1]}\")\n",
    "\n",
    "\n",
    "plt.imshow(X_test[1].reshape((28, 28)), cmap='gray')\n",
    "plt.show()"
   ],
   "metadata": {
    "colab": {
     "base_uri": "https://localhost:8080/",
     "height": 334
    },
    "id": "oYu-x9BEne9s",
    "executionInfo": {
     "status": "ok",
     "timestamp": 1655295241153,
     "user_tz": -180,
     "elapsed": 820,
     "user": {
      "displayName": "Ahmet Alp Sarıca",
      "userId": "00819177888909939823"
     }
    },
    "outputId": "cfe15f21-44ed-46e4-a451-2df40c736662",
    "pycharm": {
     "is_executing": true
    }
   },
   "execution_count": null,
   "outputs": []
  },
  {
   "cell_type": "code",
   "source": [
    "from sklearn.metrics import confusion_matrix\n",
    "\n",
    "confusion_matrix(y_test, predictions_NN)"
   ],
   "metadata": {
    "colab": {
     "base_uri": "https://localhost:8080/"
    },
    "id": "38TTU8eKANTL",
    "outputId": "45d954c5-f62c-497b-d4ef-26b32ccc5a5d",
    "executionInfo": {
     "status": "ok",
     "timestamp": 1655294759860,
     "user_tz": -180,
     "elapsed": 279,
     "user": {
      "displayName": "Ahmet Alp Sarıca",
      "userId": "00819177888909939823"
     }
    },
    "pycharm": {
     "is_executing": true
    }
   },
   "execution_count": null,
   "outputs": []
  },
  {
   "cell_type": "code",
   "source": [
    "from sklearn.metrics import classification_report\n",
    "\n",
    "print(classification_report(y_test,predictions_NN))"
   ],
   "metadata": {
    "colab": {
     "base_uri": "https://localhost:8080/"
    },
    "id": "M2OkgeFo-c8R",
    "executionInfo": {
     "status": "ok",
     "timestamp": 1655294760804,
     "user_tz": -180,
     "elapsed": 949,
     "user": {
      "displayName": "Ahmet Alp Sarıca",
      "userId": "00819177888909939823"
     }
    },
    "outputId": "8fd59d99-3cda-4873-cd29-3493ed1d5611",
    "pycharm": {
     "is_executing": true
    }
   },
   "execution_count": null,
   "outputs": []
  },
  {
   "cell_type": "code",
   "source": [
    "confusion_matrix(y_test, predictions_NN1)"
   ],
   "metadata": {
    "colab": {
     "base_uri": "https://localhost:8080/"
    },
    "id": "SWoz9tB0qW34",
    "executionInfo": {
     "status": "ok",
     "timestamp": 1655294760804,
     "user_tz": -180,
     "elapsed": 5,
     "user": {
      "displayName": "Ahmet Alp Sarıca",
      "userId": "00819177888909939823"
     }
    },
    "outputId": "3905f296-e926-400b-f5c5-a654c3e24477",
    "pycharm": {
     "is_executing": true
    }
   },
   "execution_count": null,
   "outputs": []
  },
  {
   "cell_type": "code",
   "source": [
    "print(classification_report(y_test,predictions_NN1))"
   ],
   "metadata": {
    "colab": {
     "base_uri": "https://localhost:8080/"
    },
    "id": "XxSL_XHL-gld",
    "executionInfo": {
     "status": "ok",
     "timestamp": 1655294761099,
     "user_tz": -180,
     "elapsed": 297,
     "user": {
      "displayName": "Ahmet Alp Sarıca",
      "userId": "00819177888909939823"
     }
    },
    "outputId": "6029a96c-9f4e-4ec0-d941-42906e409cdd",
    "pycharm": {
     "is_executing": true
    }
   },
   "execution_count": null,
   "outputs": []
  },
  {
   "cell_type": "code",
   "source": [
    "confusion_matrix(y_test, predictions_NN2)"
   ],
   "metadata": {
    "colab": {
     "base_uri": "https://localhost:8080/"
    },
    "id": "6h5ftLk-qaTP",
    "executionInfo": {
     "status": "ok",
     "timestamp": 1655294761099,
     "user_tz": -180,
     "elapsed": 10,
     "user": {
      "displayName": "Ahmet Alp Sarıca",
      "userId": "00819177888909939823"
     }
    },
    "outputId": "d1e36b41-8fb5-4c67-f0ac-031dd9a3f234",
    "pycharm": {
     "is_executing": true
    }
   },
   "execution_count": null,
   "outputs": []
  },
  {
   "cell_type": "code",
   "source": [
    "print(classification_report(y_test,predictions_NN2))"
   ],
   "metadata": {
    "colab": {
     "base_uri": "https://localhost:8080/"
    },
    "id": "lBZUr9R6qem5",
    "executionInfo": {
     "status": "ok",
     "timestamp": 1655294761100,
     "user_tz": -180,
     "elapsed": 9,
     "user": {
      "displayName": "Ahmet Alp Sarıca",
      "userId": "00819177888909939823"
     }
    },
    "outputId": "902b14b8-1818-4d47-94c9-4aa69fdf6244",
    "pycharm": {
     "is_executing": true
    }
   },
   "execution_count": null,
   "outputs": []
  },
  {
   "cell_type": "code",
   "execution_count": null,
   "outputs": [],
   "source": [],
   "metadata": {
    "collapsed": false
   }
  }
 ]
}
