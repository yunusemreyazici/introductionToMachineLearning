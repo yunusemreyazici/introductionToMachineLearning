{
 "cells": [
  {
   "cell_type": "markdown",
   "metadata": {
    "id": "view-in-github",
    "colab_type": "text"
   },
   "source": [
    "<a href=\"https://colab.research.google.com/github/yunusemreyazici/makineOrenmesineGiris_globalAIhub.com/blob/main/Classification.ipynb\" target=\"_parent\"><img src=\"https://colab.research.google.com/assets/colab-badge.svg\" alt=\"Open In Colab\"/></a>"
   ]
  },
  {
   "cell_type": "code",
   "execution_count": null,
   "id": "6a2bceed",
   "metadata": {
    "id": "6a2bceed",
    "outputId": "9a3c2d9f-687d-435f-9ef2-de1b9735c391",
    "colab": {
     "base_uri": "https://localhost:8080/",
     "height": 324
    }
   },
   "outputs": [],
   "source": [
    "import pandas as pd\n",
    "dataset = pd.read_csv(\"breast-cancer.csv\")"
   ]
  },
  {
   "cell_type": "code",
   "execution_count": null,
   "id": "bf1c090b",
   "metadata": {
    "id": "bf1c090b",
    "outputId": "522acbe6-b426-45f5-c188-c272df399b7f"
   },
   "outputs": [],
   "source": [
    "dataset.shape"
   ]
  },
  {
   "cell_type": "code",
   "execution_count": null,
   "id": "272cd872",
   "metadata": {
    "id": "272cd872",
    "outputId": "8a6f9bfa-0336-4380-8a01-d0f506b70000"
   },
   "outputs": [],
   "source": [
    "dataset.head()"
   ]
  },
  {
   "cell_type": "code",
   "execution_count": null,
   "id": "395ced3c",
   "metadata": {
    "scrolled": true,
    "id": "395ced3c",
    "outputId": "1e2dca05-d8a3-4467-f2ff-7bd31c56a648"
   },
   "outputs": [],
   "source": [
    "dataset.tail()"
   ]
  },
  {
   "cell_type": "code",
   "execution_count": null,
   "id": "2e583520",
   "metadata": {
    "id": "2e583520"
   },
   "outputs": [],
   "source": [
    "from sklearn.preprocessing import LabelEncoder\n",
    "labelencoder = LabelEncoder()\n",
    "dataset[\"diagnosis\"] = labelencoder.fit_transform(dataset[\"diagnosis\"].values) "
   ]
  },
  {
   "cell_type": "code",
   "execution_count": null,
   "id": "e25a66ff",
   "metadata": {
    "id": "e25a66ff",
    "outputId": "31d4a744-1316-46eb-8463-10292520b376"
   },
   "outputs": [],
   "source": [
    "dataset.head()"
   ]
  },
  {
   "cell_type": "code",
   "execution_count": null,
   "id": "40839716",
   "metadata": {
    "id": "40839716",
    "outputId": "5eedb3fc-8126-4a1f-cd0a-b4d430e441ed"
   },
   "outputs": [],
   "source": [
    "dataset.tail()"
   ]
  },
  {
   "cell_type": "code",
   "execution_count": null,
   "id": "781db584",
   "metadata": {
    "id": "781db584"
   },
   "outputs": [],
   "source": [
    "from sklearn.model_selection import train_test_split"
   ]
  },
  {
   "cell_type": "code",
   "execution_count": null,
   "id": "699bbe78",
   "metadata": {
    "id": "699bbe78"
   },
   "outputs": [],
   "source": [
    "train, test = train_test_split(dataset, test_size=0.3)"
   ]
  },
  {
   "cell_type": "code",
   "execution_count": null,
   "id": "ae841721",
   "metadata": {
    "id": "ae841721"
   },
   "outputs": [],
   "source": [
    "X_train = train.drop(\"diagnosis\",axis=1)\n",
    "y_train = train.loc[:,\"diagnosis\"]\n",
    "\n",
    "X_test = test.drop(\"diagnosis\",axis=1)\n",
    "y_test = test.loc[:,\"diagnosis\"]"
   ]
  },
  {
   "cell_type": "code",
   "execution_count": null,
   "id": "e0f1935f",
   "metadata": {
    "id": "e0f1935f"
   },
   "outputs": [],
   "source": [
    "from sklearn.linear_model import LogisticRegression"
   ]
  },
  {
   "cell_type": "code",
   "execution_count": null,
   "id": "86ab8163",
   "metadata": {
    "id": "86ab8163"
   },
   "outputs": [],
   "source": [
    "model_1 = LogisticRegression()"
   ]
  },
  {
   "cell_type": "code",
   "execution_count": null,
   "id": "744c283d",
   "metadata": {
    "id": "744c283d",
    "outputId": "b98b52cc-dfb4-47ac-be31-6f39a10f97dd"
   },
   "outputs": [],
   "source": [
    "model_1.fit(X_train,y_train)"
   ]
  },
  {
   "cell_type": "code",
   "execution_count": null,
   "id": "7c79e90d",
   "metadata": {
    "id": "7c79e90d",
    "outputId": "3fa2dd35-196e-4774-ea4a-bb1d5c3ec04e"
   },
   "outputs": [],
   "source": [
    "predictions = model_1.predict(X_test)\n",
    "predictions"
   ]
  },
  {
   "cell_type": "code",
   "execution_count": null,
   "id": "a1840540",
   "metadata": {
    "id": "a1840540",
    "outputId": "8090f709-f040-4055-a014-dc2d8e76cc97"
   },
   "outputs": [],
   "source": [
    "from sklearn.metrics import confusion_matrix\n",
    "\n",
    "confusion_matrix(y_test, predictions)"
   ]
  },
  {
   "cell_type": "code",
   "execution_count": null,
   "id": "cbfed89a",
   "metadata": {
    "id": "cbfed89a",
    "outputId": "697d2ba3-2db9-4220-aeb2-f756e3193187"
   },
   "outputs": [],
   "source": [
    "from sklearn.metrics import classification_report\n",
    "\n",
    "print(classification_report(y_test, predictions))"
   ]
  },
  {
   "cell_type": "code",
   "execution_count": null,
   "id": "4502b446",
   "metadata": {
    "id": "4502b446"
   },
   "outputs": [],
   "source": [
    "from sklearn.svm import LinearSVC"
   ]
  },
  {
   "cell_type": "code",
   "execution_count": null,
   "id": "0c1962fc",
   "metadata": {
    "id": "0c1962fc"
   },
   "outputs": [],
   "source": [
    "model_2 = LinearSVC()"
   ]
  },
  {
   "cell_type": "code",
   "execution_count": null,
   "id": "d0e0aaa5",
   "metadata": {
    "id": "d0e0aaa5",
    "outputId": "475b2d21-9600-4b28-cdef-df3db503f666"
   },
   "outputs": [],
   "source": [
    "model_2.fit(X_train,y_train)"
   ]
  },
  {
   "cell_type": "code",
   "execution_count": null,
   "id": "06368e44",
   "metadata": {
    "id": "06368e44",
    "outputId": "b4e4cd80-09af-4a24-8527-ff7e75b79544"
   },
   "outputs": [],
   "source": [
    "predictions = model_2.predict(X_test)\n",
    "predictions"
   ]
  },
  {
   "cell_type": "code",
   "execution_count": null,
   "id": "59a01cb3",
   "metadata": {
    "id": "59a01cb3",
    "outputId": "3757ea3e-60e8-438c-e606-4a3817d777f2"
   },
   "outputs": [],
   "source": [
    "from sklearn.metrics import confusion_matrix\n",
    "\n",
    "confusion_matrix(y_test, predictions)"
   ]
  },
  {
   "cell_type": "code",
   "execution_count": null,
   "id": "b699c1c0",
   "metadata": {
    "id": "b699c1c0",
    "outputId": "49740443-48b5-44ba-83b8-81295b5d37f2"
   },
   "outputs": [],
   "source": [
    "from sklearn.metrics import classification_report\n",
    "\n",
    "print(classification_report(y_test, predictions))"
   ]
  }
 ],
 "metadata": {
  "kernelspec": {
   "display_name": "Python 3",
   "language": "python",
   "name": "python3"
  },
  "language_info": {
   "codemirror_mode": {
    "name": "ipython",
    "version": 3
   },
   "file_extension": ".py",
   "mimetype": "text/x-python",
   "name": "python",
   "nbconvert_exporter": "python",
   "pygments_lexer": "ipython3",
   "version": "3.8.8"
  },
  "colab": {
   "provenance": [],
   "include_colab_link": true
  }
 },
 "nbformat": 4,
 "nbformat_minor": 5
}
